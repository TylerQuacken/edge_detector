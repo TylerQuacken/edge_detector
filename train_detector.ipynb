{
 "cells": [
  {
   "cell_type": "markdown",
   "metadata": {},
   "source": [
    "This IPython Notebook handles the training and evaluation of a neural net that produces a heatmap of edge likelihood from an unsaturated image"
   ]
  },
  {
   "cell_type": "code",
   "execution_count": 1,
   "metadata": {},
   "outputs": [],
   "source": [
    "# Handle imports\n",
    "import cv2\n",
    "import numpy as np\n",
    "import matplotlib.pyplot as plt\n",
    "from IPython import embed\n"
   ]
  },
  {
   "cell_type": "code",
   "execution_count": 139,
   "metadata": {},
   "outputs": [],
   "source": [
    "class ImageGenerator():\n",
    "    def __init__(self, shape: tuple, batchSize: int):\n",
    "        self.shape = np.array(shape)\n",
    "\n",
    "    def generate_image(self) -> np.ndarray:\n",
    "        shapeBGR = (self.shape[1], self.shape[0], 3)\n",
    "        imageBGR = np.zeros(shapeBGR, 'uint8')\n",
    "\n",
    "        # make array of corner indeces\n",
    "        corners = np.array([[0,0],[0,1],[1,1],[1,0],[0,0],[0,1],[1,1],[1,0]]) * (self.shape - 1)\n",
    "        b = np.random.randint(0,4)  # random starting corner\n",
    "        c = np.random.randint(1,4) + b  # pick 1-3 total corners\n",
    "\n",
    "        # pick random edge points for edge line\n",
    "        rands = np.random.random(2)\n",
    "        dir0 = corners[b] - corners[b-1]\n",
    "        dir1 = corners[c] - corners[c-1]\n",
    "        point0 = dir0*rands[0] + corners[b-1]\n",
    "        point1 = dir1*rands[1] + corners[c-1]\n",
    "\n",
    "        # construct polygon\n",
    "        polygon = corners[b:c]\n",
    "        polygon = np.concatenate(([point0], polygon, [point1]), axis=0)\n",
    "        polygon = polygon.astype(np.int32)\n",
    "        polygon = np.expand_dims(polygon, 1)\n",
    "        cv2.fillPoly(imageBGR, [polygon], (255,255,255), lineType=cv2.LINE_AA)\n",
    "\n",
    "        image = cv2.cvtColor(imageBGR, cv2.COLOR_BGR2GRAY)\n",
    "\n",
    "        edgeImageBGR = np.zeros(shapeBGR, 'uint8')\n",
    "        edge = [0, -1]\n",
    "        cv2.polylines(edgeImageBGR, [polygon[edge]], False, (255,255,255), lineType=cv2.LINE_AA)\n",
    "\n",
    "        edgeImage = cv2.cvtColor(edgeImageBGR, cv2.COLOR_BGR2GRAY)\n",
    "\n",
    "        return image, edgeImage\n",
    "\n"
   ]
  },
  {
   "cell_type": "code",
   "execution_count": 152,
   "metadata": {},
   "outputs": [
    {
     "data": {
      "image/png": "[encoded data removed]",
      "text/plain": [
       "<Figure size 432x288 with 1 Axes>"
      ]
     },
     "metadata": {
      "needs_background": "light"
     },
     "output_type": "display_data"
    },
    {
     "data": {
      "image/png": "[encoded data removed]",
      "text/plain": [
       "<Figure size 432x288 with 1 Axes>"
      ]
     },
     "metadata": {
      "needs_background": "light"
     },
     "output_type": "display_data"
    }
   ],
   "source": [
    "generator = ImageGenerator((200, 100), 1)\n",
    "img, edgeImg = generator.generate_image()\n",
    "\n",
    "def imshow(image: np.ndarray):\n",
    "    if image.ndim == 2:\n",
    "        plt.imshow(image, cmap='gray', vmin=0, vmax=255)\n",
    "    elif image.ndim == 3:\n",
    "        plt.imshow(image[:,:,::-1])\n",
    "    else:\n",
    "        raise(ValueError)\n",
    "    plt.show()\n",
    "\n",
    "imshow(img)\n",
    "imshow(edgeImg)"
   ]
  },
  {
   "cell_type": "code",
   "execution_count": null,
   "metadata": {},
   "outputs": [
    {
     "name": "stdout",
     "output_type": "stream",
     "text": [
      "1 3\n",
      "[[0.         0.90314412]\n",
      " [0.         2.        ]\n",
      " [1.         2.        ]\n",
      " [1.         1.88318445]]\n"
     ]
    }
   ],
   "source": [
    "# Test for the random polygon algorithm\n",
    "a = np.array([[0,0],[0,2],[1,2],[1,0],[0,0],[0,2],[1,2],[1,0]])\n",
    "b = np.random.randint(0,4)\n",
    "c = np.random.randint(1,4) + b\n",
    "print(b, c)\n",
    "rands = np.random.random(2)\n",
    "point0 = (a[b] - a[b-1])*rands[0] + a[b-1]\n",
    "point1 = (a[c] - a[c-1])*rands[1] + a[c-1]\n",
    "\n",
    "poly = a[b:c]\n",
    "poly = np.concatenate(([point0], poly, [point1]), axis=0)\n",
    "\n",
    "print(poly)"
   ]
  }
 ],
 "metadata": {
  "interpreter": {
   "hash": "13eb0af71620a846e484681143862ad0a4deab6cadfc353264e5c14897c11035"
  },
  "kernelspec": {
   "display_name": "Python 3.9.9 64-bit",
   "language": "python",
   "name": "python3"
  },
  "language_info": {
   "codemirror_mode": {
    "name": "ipython",
    "version": 3
   },
   "file_extension": ".py",
   "mimetype": "text/x-python",
   "name": "python",
   "nbconvert_exporter": "python",
   "pygments_lexer": "ipython3",
   "version": "3.9.9"
  },
  "orig_nbformat": 4
 },
 "nbformat": 4,
 "nbformat_minor": 2
}
