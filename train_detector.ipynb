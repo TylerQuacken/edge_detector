{
 "cells": [
  {
   "cell_type": "markdown",
   "metadata": {},
   "source": [
    "This IPython Notebook handles the training and evaluation of a neural net that produces a heatmap of edge likelihood from an unsaturated image"
   ]
  },
  {
   "cell_type": "code",
   "execution_count": 1,
   "metadata": {},
   "outputs": [],
   "source": [
    "# Handle imports\n",
    "import cv2\n",
    "import numpy as np\n",
    "import matplotlib.pyplot as plt\n",
    "from IPython import embed\n",
    "import torch\n",
    "import torch.nn as nn\n"
   ]
  },
  {
   "cell_type": "code",
   "execution_count": 2,
   "metadata": {},
   "outputs": [],
   "source": [
    "class ImageGenerator():\n",
    "    def __init__(self, shape: tuple, batchSize: int):\n",
    "        self.shape = np.array(shape)\n",
    "\n",
    "    def generate_image(self) -> np.ndarray:\n",
    "        shapeBGR = (self.shape[1], self.shape[0], 3)\n",
    "        imageBGR = np.zeros(shapeBGR, 'uint8')\n",
    "\n",
    "        # make array of corner indeces\n",
    "        corners = np.array([[0,0],[0,1],[1,1],[1,0],[0,0],[0,1],[1,1],[1,0]]) * (self.shape - 1)\n",
    "        b = np.random.randint(0,4)  # random starting corner\n",
    "        c = np.random.randint(1,4) + b  # pick 1-3 total corners\n",
    "\n",
    "        # pick random edge points for edge line\n",
    "        rands = np.random.random(2)\n",
    "        dir0 = corners[b] - corners[b-1]\n",
    "        dir1 = corners[c] - corners[c-1]\n",
    "        point0 = dir0*rands[0] + corners[b-1]\n",
    "        point1 = dir1*rands[1] + corners[c-1]\n",
    "\n",
    "        # construct polygon\n",
    "        polygon = corners[b:c]\n",
    "        polygon = np.concatenate(([point0], polygon, [point1]), axis=0)\n",
    "        polygon = polygon.astype(np.int32)\n",
    "        polygon = np.expand_dims(polygon, 1)\n",
    "        cv2.fillPoly(imageBGR, [polygon], (255,255,255), lineType=cv2.LINE_AA)\n",
    "\n",
    "        image = cv2.cvtColor(imageBGR, cv2.COLOR_BGR2GRAY)\n",
    "\n",
    "        edgeImageBGR = np.zeros(shapeBGR, 'uint8')\n",
    "        edge = [0, -1]\n",
    "        cv2.polylines(edgeImageBGR, [polygon[edge]], False, (255,255,255), lineType=cv2.LINE_AA)\n",
    "\n",
    "        edgeImage = cv2.cvtColor(edgeImageBGR, cv2.COLOR_BGR2GRAY)\n",
    "\n",
    "        return image, edgeImage\n",
    "\n"
   ]
  },
  {
   "cell_type": "code",
   "execution_count": 3,
   "metadata": {},
   "outputs": [
    {
     "data": {
      "image/png": "[encoded data removed]",
      "text/plain": [
       "<Figure size 432x288 with 1 Axes>"
      ]
     },
     "metadata": {
      "needs_background": "light"
     },
     "output_type": "display_data"
    },
    {
     "data": {
      "image/png": "[encoded data removed]",
      "text/plain": [
       "<Figure size 432x288 with 1 Axes>"
      ]
     },
     "metadata": {
      "needs_background": "light"
     },
     "output_type": "display_data"
    }
   ],
   "source": [
    "generator = ImageGenerator((200, 100), 1)\n",
    "img, edgeImg = generator.generate_image()\n",
    "\n",
    "def imshow(image: np.ndarray):\n",
    "    if image.ndim == 2:\n",
    "        plt.imshow(image, cmap='gray', vmin=0, vmax=255)\n",
    "    elif image.ndim == 3:\n",
    "        plt.imshow(image[:,:,::-1])\n",
    "    else:\n",
    "        raise(ValueError)\n",
    "    plt.show()\n",
    "\n",
    "imshow(img)\n",
    "imshow(edgeImg)"
   ]
  },
  {
   "cell_type": "code",
   "execution_count": null,
   "metadata": {},
   "outputs": [
    {
     "name": "stdout",
     "output_type": "stream",
     "text": [
      "1 3\n",
      "[[0.         0.90314412]\n",
      " [0.         2.        ]\n",
      " [1.         2.        ]\n",
      " [1.         1.88318445]]\n"
     ]
    }
   ],
   "source": [
    "# Test for the random polygon algorithm\n",
    "a = np.array([[0,0],[0,2],[1,2],[1,0],[0,0],[0,2],[1,2],[1,0]])\n",
    "b = np.random.randint(0,4)\n",
    "c = np.random.randint(1,4) + b\n",
    "print(b, c)\n",
    "rands = np.random.random(2)\n",
    "point0 = (a[b] - a[b-1])*rands[0] + a[b-1]\n",
    "point1 = (a[c] - a[c-1])*rands[1] + a[c-1]\n",
    "\n",
    "poly = a[b:c]\n",
    "poly = np.concatenate(([point0], poly, [point1]), axis=0)\n",
    "\n",
    "print(poly)"
   ]
  },
  {
   "cell_type": "code",
   "execution_count": null,
   "metadata": {},
   "outputs": [],
   "source": [
    "class UNet(nn.Module):\n",
    "  \"\"\" Implements the UNet architecture for cancer detection \"\"\"\n",
    "  def __init__(self):\n",
    "    super(UNet, self).__init__()\n",
    "    self.conv1 = nn.Conv2d(1,64,kernel_size = (3, 3), padding = (1,1))\n",
    "    self.relu2 = nn.ReLU()\n",
    "    self.conv3 = nn.Conv2d(64,64,kernel_size = (3, 3), padding = (1,1))\n",
    "    self.relu4 = nn.ReLU()\n",
    "    self.max5 = nn.MaxPool2d(kernel_size = (2, 2), stride = 2, padding = (0,0))\n",
    "    \n",
    "    self.conv6 = nn.Conv2d(64,128,kernel_size = (3, 3), padding = (1,1))\n",
    "    self.relu7 = nn.ReLU()\n",
    "    self.conv8 = nn.Conv2d(128,128,kernel_size = (3, 3), padding = (1,1))\n",
    "    self.relu9 = nn.ReLU()\n",
    "    self.max10 = nn.MaxPool2d(kernel_size = (2, 2), padding = (0,0))\n",
    "    \n",
    "    self.conv11 = nn.Conv2d(128,256,kernel_size = (3, 3), padding = (1,1))\n",
    "    self.relu12 = nn.ReLU()\n",
    "    self.conv13 = nn.Conv2d(256,256,kernel_size = (3, 3), padding = (1,1))\n",
    "    self.relu14 = nn.ReLU()\n",
    "    self.max15 = nn.MaxPool2d(kernel_size = (2, 2), padding = (0,0))\n",
    "    \n",
    "    self.conv16 = nn.Conv2d(256,512,kernel_size = (3, 3), padding = (1,1))\n",
    "    self.relu17 = nn.ReLU()\n",
    "    self.conv18 = nn.Conv2d(512,512,kernel_size = (3, 3), padding = (1,1))\n",
    "    self.relu19 = nn.ReLU()\n",
    "    self.max20 = nn.MaxPool2d(kernel_size = (2, 2), padding = (0,0))\n",
    "    \n",
    "    self.conv21 = nn.Conv2d(512,1024,kernel_size = (3, 3), padding = (1,1))\n",
    "    self.relu22 = nn.ReLU()\n",
    "    self.conv23 = nn.Conv2d(1024,1024,kernel_size = (3, 3), padding = (1,1))\n",
    "    self.relu24 = nn.ReLU()\n",
    "    self.upcon25 = nn.ConvTranspose2d(1024, 512, kernel_size = (2,2), padding = 0, stride=2)\n",
    "    \n",
    "    self.conv26 = nn.Conv2d(1024,512,kernel_size = (3, 3), padding = (1,1))\n",
    "    self.relu27 = nn.ReLU()\n",
    "    self.conv28 = nn.Conv2d(512,512,kernel_size = (3, 3), padding = (1,1))\n",
    "    self.relu29 = nn.ReLU()\n",
    "    self.upcon30 = nn.ConvTranspose2d(512, 256, kernel_size = (2,2), padding = 0, stride=2)\n",
    "    \n",
    "    self.conv31 = nn.Conv2d(512,256,kernel_size = (3, 3), padding = (1,1))\n",
    "    self.relu32 = nn.ReLU()\n",
    "    self.conv33 = nn.Conv2d(256,256,kernel_size = (3, 3), padding = (1,1))\n",
    "    self.relu34 = nn.ReLU()\n",
    "    self.upcon35 = nn.ConvTranspose2d(256, 128, kernel_size = (2,2), padding = 0, stride=2)\n",
    "    \n",
    "    self.conv36 = nn.Conv2d(256,128,kernel_size = (3, 3), padding = (1,1))\n",
    "    self.relu37 = nn.ReLU()\n",
    "    self.conv38 = nn.Conv2d(128,128,kernel_size = (3, 3), padding = (1,1))\n",
    "    self.relu39 = nn.ReLU()\n",
    "    self.upcon40 = nn.ConvTranspose2d(128, 64, kernel_size = (2,2), padding = 0, stride=2)\n",
    "    \n",
    "    self.conv41 = nn.Conv2d(128,64,kernel_size = (3, 3), padding = (1,1))\n",
    "    self.relu42 = nn.ReLU()\n",
    "    self.conv43 = nn.Conv2d(64,64,kernel_size = (3, 3), padding = (1,1))\n",
    "    self.relu44 = nn.ReLU()\n",
    "    self.conv45 = nn.Conv2d(64,1,kernel_size = 1, padding = 0)\n",
    "\n",
    " \n",
    "  def forward(self, input):\n",
    "    o1 = self.conv1(input)\n",
    "    o2 = self.relu2(o1)\n",
    "    o3 = self.conv3(o2)\n",
    "    o4 = self.relu4(o3)\n",
    "    o5 = self.max5(o4)\n",
    "    \n",
    "    o6 = self.conv6(o5)\n",
    "    o7 = self.relu7(o6)\n",
    "    o8 = self.conv8(o7)\n",
    "    o9 = self.relu9(o8)\n",
    "    o10 = self.max10(o9)\n",
    "    \n",
    "    o11 = self.conv11(o10)\n",
    "    o12 = self.relu12(o11)\n",
    "    o13 = self.conv13(o12)\n",
    "    o14 = self.relu14(o13)\n",
    "    o15 = self.max15(o14)\n",
    "    \n",
    "    o16 = self.conv16(o15)\n",
    "    o17 = self.relu17(o16)\n",
    "    o18 = self.conv18(o17)\n",
    "    o19 = self.relu19(o18)\n",
    "    o20 = self.max20(o19)\n",
    "    \n",
    "    o21 = self.conv21(o20)\n",
    "    o22 = self.relu22(o21)\n",
    "    o23 = self.conv23(o22)\n",
    "    o24 = self.relu24(o23)\n",
    "    o25 = self.upcon25(o24)\n",
    "\n",
    "    in25 = torch.cat((o25, o19), 1)\n",
    "    \n",
    "    o26 = self.conv26(in25)\n",
    "    o27 = self.relu27(o26)\n",
    "    o28 = self.conv28(o27)\n",
    "    o29 = self.relu29(o28)\n",
    "    o30 = self.upcon30(o29)\n",
    "\n",
    "    in30 = torch.cat((o30, o14), 1)\n",
    "    \n",
    "    o31 = self.conv31(in30)\n",
    "    o32 = self.relu32(o31)\n",
    "    o33 = self.conv33(o32)\n",
    "    o34 = self.relu34(o33)\n",
    "    o35 = self.upcon35(o34)\n",
    "\n",
    "    in35 = torch.cat((o35, o9), 1)\n",
    "    \n",
    "    o36 = self.conv36(in35)\n",
    "    o37 = self.relu37(o36)\n",
    "    o38 = self.conv38(o37)\n",
    "    o39 = self.relu39(o38)\n",
    "    o40 = self.upcon40(o39)\n",
    "\n",
    "    in40 = torch.cat((o40, o4), 1)\n",
    "    \n",
    "    o41 = self.conv41(in40)\n",
    "    o42 = self.relu42(o41)\n",
    "    o43 = self.conv43(o42)\n",
    "    o44 = self.relu44(o43)\n",
    "    o45 = self.conv45(o44)\n",
    "\n",
    "    # print(o44.shape)\n",
    "    # print(o45.shape)\n",
    "    # print(in35.shape)\n",
    "\n",
    "    \n",
    "    \n",
    "    return o45  #Copy Squeeze stuff?"
   ]
  }
 ],
 "metadata": {
  "interpreter": {
   "hash": "13eb0af71620a846e484681143862ad0a4deab6cadfc353264e5c14897c11035"
  },
  "kernelspec": {
   "display_name": "Python 3.9.9 64-bit",
   "language": "python",
   "name": "python3"
  },
  "language_info": {
   "codemirror_mode": {
    "name": "ipython",
    "version": 3
   },
   "file_extension": ".py",
   "mimetype": "text/x-python",
   "name": "python",
   "nbconvert_exporter": "python",
   "pygments_lexer": "ipython3",
   "version": "3.9.10"
  },
  "orig_nbformat": 4
 },
 "nbformat": 4,
 "nbformat_minor": 2
}
