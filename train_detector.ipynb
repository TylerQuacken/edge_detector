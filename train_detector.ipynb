{
 "cells": [
  {
   "cell_type": "markdown",
   "metadata": {},
   "source": [
    "This IPython Notebook handles the training and evaluation of a neural net that produces a heatmap of edge likelihood from an unsaturated image"
   ]
  },
  {
   "cell_type": "code",
   "execution_count": 9,
   "metadata": {},
   "outputs": [],
   "source": [
    "# Handle imports\n",
    "import cv2\n",
    "import numpy as np\n",
    "import matplotlib.pyplot as plt\n",
    "from IPython import embed\n",
    "import torch\n",
    "import torch.nn as nn\n",
    "import torch.optim as optim\n",
    "from tqdm import tqdm\n",
    "from torch.nn.parameter import Parameter\n"
   ]
  },
  {
   "cell_type": "code",
   "execution_count": 10,
   "metadata": {},
   "outputs": [],
   "source": [
    "class ImageGenerator():\n",
    "    def __init__(self, shape: tuple, batchSize: int):\n",
    "        self.shape = np.array(shape)\n",
    "        self.batchSize = batchSize\n",
    "\n",
    "    def generate_batch(self):\n",
    "        imageBatch = np.zeros([self.batchSize, self.shape[1], self.shape[0]])\n",
    "        edgeBatch = np.zeros([self.batchSize, self.shape[1], self.shape[0]])\n",
    "\n",
    "        for i in range(self.batchSize):\n",
    "            image, edgeImg = self.generate_image()\n",
    "            imageBatch[i] = image\n",
    "            edgeBatch[i] = edgeImg\n",
    "\n",
    "        return imageBatch, edgeBatch\n",
    "\n",
    "    def generate_image(self) -> np.ndarray:\n",
    "        shapeBGR = (self.shape[1], self.shape[0], 3)\n",
    "        imageBGR = np.zeros(shapeBGR, 'uint8')\n",
    "\n",
    "        # make array of corner indeces\n",
    "        corners = np.array([[0,0],[0,1],[1,1],[1,0],[0,0],[0,1],[1,1],[1,0]]) * (self.shape - 1)\n",
    "        b = np.random.randint(0,4)  # random starting corner\n",
    "        c = np.random.randint(1,4) + b  # pick 1-3 total corners\n",
    "\n",
    "        # pick random edge points for edge line\n",
    "        rands = np.random.random(2)\n",
    "        dir0 = corners[b] - corners[b-1]\n",
    "        dir1 = corners[c] - corners[c-1]\n",
    "        point0 = dir0*rands[0] + corners[b-1]\n",
    "        point1 = dir1*rands[1] + corners[c-1]\n",
    "\n",
    "        # construct polygon\n",
    "        polygon = corners[b:c]\n",
    "        polygon = np.concatenate(([point0], polygon, [point1]), axis=0)\n",
    "        polygon = polygon.astype(np.int32)\n",
    "        polygon = np.expand_dims(polygon, 1)\n",
    "        cv2.fillPoly(imageBGR, [polygon], (255,255,255), lineType=cv2.LINE_AA)\n",
    "\n",
    "        image = cv2.cvtColor(imageBGR, cv2.COLOR_BGR2GRAY)\n",
    "\n",
    "        edgeImageBGR = np.zeros(shapeBGR, 'uint8')\n",
    "        edge = [0, -1]\n",
    "        cv2.polylines(edgeImageBGR, [polygon[edge]], False, (255,255,255), lineType=cv2.LINE_AA)\n",
    "\n",
    "        edgeImage = cv2.cvtColor(edgeImageBGR, cv2.COLOR_BGR2GRAY)\n",
    "\n",
    "        return image, edgeImage\n",
    "\n"
   ]
  },
  {
   "cell_type": "code",
   "execution_count": 20,
   "metadata": {},
   "outputs": [
    {
     "data": {
      "image/png": "[encoded data removed]",
      "text/plain": [
       "<Figure size 432x288 with 1 Axes>"
      ]
     },
     "metadata": {
      "needs_background": "light"
     },
     "output_type": "display_data"
    },
    {
     "data": {
      "image/png": "[encoded data removed]",
      "text/plain": [
       "<Figure size 432x288 with 1 Axes>"
      ]
     },
     "metadata": {
      "needs_background": "light"
     },
     "output_type": "display_data"
    },
    {
     "name": "stdout",
     "output_type": "stream",
     "text": [
      "(1000, 100, 200)\n"
     ]
    }
   ],
   "source": [
    "generator = ImageGenerator((200, 100), 1000)\n",
    "img, edgeImg = generator.generate_image()\n",
    "\n",
    "def imshow(image: np.ndarray):\n",
    "    if image.ndim == 2:\n",
    "        plt.imshow(image, cmap='gray', vmin=0, vmax=255)\n",
    "    elif image.ndim == 3:\n",
    "        plt.imshow(image[:,:,::-1])\n",
    "    else:\n",
    "        raise(ValueError)\n",
    "    plt.show()\n",
    "\n",
    "imshow(img)\n",
    "imshow(edgeImg)\n",
    "\n",
    "batch, batch2 = generator.generate_batch()\n",
    "print(batch.shape)"
   ]
  },
  {
   "cell_type": "code",
   "execution_count": 12,
   "metadata": {},
   "outputs": [
    {
     "name": "stdout",
     "output_type": "stream",
     "text": [
      "2 5\n",
      "[[0.57660671 2.        ]\n",
      " [1.         2.        ]\n",
      " [1.         0.        ]\n",
      " [0.         0.        ]\n",
      " [0.         0.92249726]]\n"
     ]
    }
   ],
   "source": [
    "# Test for the random polygon algorithm\n",
    "a = np.array([[0,0],[0,2],[1,2],[1,0],[0,0],[0,2],[1,2],[1,0]])\n",
    "b = np.random.randint(0,4)\n",
    "c = np.random.randint(1,4) + b\n",
    "print(b, c)\n",
    "rands = np.random.random(2)\n",
    "point0 = (a[b] - a[b-1])*rands[0] + a[b-1]\n",
    "point1 = (a[c] - a[c-1])*rands[1] + a[c-1]\n",
    "\n",
    "poly = a[b:c]\n",
    "poly = np.concatenate(([point0], poly, [point1]), axis=0)\n",
    "\n",
    "print(poly)"
   ]
  },
  {
   "cell_type": "code",
   "execution_count": 13,
   "metadata": {},
   "outputs": [],
   "source": [
    "class UNet(nn.Module):\n",
    "  \"\"\" Implements the UNet architecture for cancer detection \"\"\"\n",
    "  def __init__(self):\n",
    "    super(UNet, self).__init__()\n",
    "    self.conv1 = nn.Conv2d(1,64,kernel_size = (3, 3), padding = (1,1))\n",
    "    self.relu2 = nn.ReLU()\n",
    "    self.conv3 = nn.Conv2d(64,64,kernel_size = (3, 3), padding = (1,1))\n",
    "    self.relu4 = nn.ReLU()\n",
    "    self.max5 = nn.MaxPool2d(kernel_size = (2, 2), stride = 2, padding = (0,0))\n",
    "    \n",
    "    self.conv6 = nn.Conv2d(64,128,kernel_size = (3, 3), padding = (1,1))\n",
    "    self.relu7 = nn.ReLU()\n",
    "    self.conv8 = nn.Conv2d(128,128,kernel_size = (3, 3), padding = (1,1))\n",
    "    self.relu9 = nn.ReLU()\n",
    "    self.max10 = nn.MaxPool2d(kernel_size = (2, 2), padding = (0,0))\n",
    "    \n",
    "    self.conv11 = nn.Conv2d(128,256,kernel_size = (3, 3), padding = (1,1))\n",
    "    self.relu12 = nn.ReLU()\n",
    "    self.conv13 = nn.Conv2d(256,256,kernel_size = (3, 3), padding = (1,1))\n",
    "    self.relu14 = nn.ReLU()\n",
    "    self.max15 = nn.MaxPool2d(kernel_size = (2, 2), padding = (0,0))\n",
    "    \n",
    "    self.conv16 = nn.Conv2d(256,512,kernel_size = (3, 3), padding = (1,1))\n",
    "    self.relu17 = nn.ReLU()\n",
    "    self.conv18 = nn.Conv2d(512,512,kernel_size = (3, 3), padding = (1,1))\n",
    "    self.relu19 = nn.ReLU()\n",
    "    self.max20 = nn.MaxPool2d(kernel_size = (2, 2), padding = (0,0))\n",
    "    \n",
    "    self.conv21 = nn.Conv2d(512,1024,kernel_size = (3, 3), padding = (1,1))\n",
    "    self.relu22 = nn.ReLU()\n",
    "    self.conv23 = nn.Conv2d(1024,1024,kernel_size = (3, 3), padding = (1,1))\n",
    "    self.relu24 = nn.ReLU()\n",
    "    self.upcon25 = nn.ConvTranspose2d(1024, 512, kernel_size = (2,2), padding = 0, stride=2)\n",
    "    \n",
    "    self.conv26 = nn.Conv2d(1024,512,kernel_size = (3, 3), padding = (1,1))\n",
    "    self.relu27 = nn.ReLU()\n",
    "    self.conv28 = nn.Conv2d(512,512,kernel_size = (3, 3), padding = (1,1))\n",
    "    self.relu29 = nn.ReLU()\n",
    "    self.upcon30 = nn.ConvTranspose2d(512, 256, kernel_size = (2,2), padding = 0, stride=2)\n",
    "    \n",
    "    self.conv31 = nn.Conv2d(512,256,kernel_size = (3, 3), padding = (1,1))\n",
    "    self.relu32 = nn.ReLU()\n",
    "    self.conv33 = nn.Conv2d(256,256,kernel_size = (3, 3), padding = (1,1))\n",
    "    self.relu34 = nn.ReLU()\n",
    "    self.upcon35 = nn.ConvTranspose2d(256, 128, kernel_size = (2,2), padding = 0, stride=2)\n",
    "    \n",
    "    self.conv36 = nn.Conv2d(256,128,kernel_size = (3, 3), padding = (1,1))\n",
    "    self.relu37 = nn.ReLU()\n",
    "    self.conv38 = nn.Conv2d(128,128,kernel_size = (3, 3), padding = (1,1))\n",
    "    self.relu39 = nn.ReLU()\n",
    "    self.upcon40 = nn.ConvTranspose2d(128, 64, kernel_size = (2,2), padding = 0, stride=2)\n",
    "    \n",
    "    self.conv41 = nn.Conv2d(128,64,kernel_size = (3, 3), padding = (1,1))\n",
    "    self.relu42 = nn.ReLU()\n",
    "    self.conv43 = nn.Conv2d(64,64,kernel_size = (3, 3), padding = (1,1))\n",
    "    self.relu44 = nn.ReLU()\n",
    "    self.conv45 = nn.Conv2d(64,2,kernel_size = 1, padding = 0)\n",
    "\n",
    "\n",
    "  def forward(self, input):\n",
    "    o1 = self.conv1(input)\n",
    "    o2 = self.relu2(o1)\n",
    "    o3 = self.conv3(o2)\n",
    "    o4 = self.relu4(o3)\n",
    "    o5 = self.max5(o4)\n",
    "    \n",
    "    o6 = self.conv6(o5)\n",
    "    o7 = self.relu7(o6)\n",
    "    o8 = self.conv8(o7)\n",
    "    o9 = self.relu9(o8)\n",
    "    o10 = self.max10(o9)\n",
    "    \n",
    "    o11 = self.conv11(o10)\n",
    "    o12 = self.relu12(o11)\n",
    "    o13 = self.conv13(o12)\n",
    "    o14 = self.relu14(o13)\n",
    "    o15 = self.max15(o14)\n",
    "    \n",
    "    o16 = self.conv16(o15)\n",
    "    o17 = self.relu17(o16)\n",
    "    o18 = self.conv18(o17)\n",
    "    o19 = self.relu19(o18)\n",
    "    o20 = self.max20(o19)\n",
    "    \n",
    "    o21 = self.conv21(o20)\n",
    "    o22 = self.relu22(o21)\n",
    "    o23 = self.conv23(o22)\n",
    "    o24 = self.relu24(o23)\n",
    "    o25 = self.upcon25(o24)\n",
    "\n",
    "    in25 = torch.cat((o25, o19), 1)\n",
    "    \n",
    "    o26 = self.conv26(in25)\n",
    "    o27 = self.relu27(o26)\n",
    "    o28 = self.conv28(o27)\n",
    "    o29 = self.relu29(o28)\n",
    "    o30 = self.upcon30(o29)\n",
    "\n",
    "    in30 = torch.cat((o30, o14), 1)\n",
    "    \n",
    "    o31 = self.conv31(in30)\n",
    "    o32 = self.relu32(o31)\n",
    "    o33 = self.conv33(o32)\n",
    "    o34 = self.relu34(o33)\n",
    "    o35 = self.upcon35(o34)\n",
    "\n",
    "    in35 = torch.cat((o35, o9), 1)\n",
    "    \n",
    "    o36 = self.conv36(in35)\n",
    "    o37 = self.relu37(o36)\n",
    "    o38 = self.conv38(o37)\n",
    "    o39 = self.relu39(o38)\n",
    "    o40 = self.upcon40(o39)\n",
    "\n",
    "    in40 = torch.cat((o40, o4), 1)\n",
    "    \n",
    "    o41 = self.conv41(in40)\n",
    "    o42 = self.relu42(o41)\n",
    "    o43 = self.conv43(o42)\n",
    "    o44 = self.relu44(o43)\n",
    "    o45 = self.conv45(o44)\n",
    "\n",
    "    # print(o44.shape)\n",
    "    # print(o45.shape)\n",
    "    # print(in35.shape)\n",
    "\n",
    "\n",
    "    return o45  #Copy Squeeze stuff?"
   ]
  },
  {
   "cell_type": "code",
   "execution_count": 14,
   "metadata": {},
   "outputs": [
    {
     "ename": "AssertionError",
     "evalue": "Torch not compiled with CUDA enabled",
     "output_type": "error",
     "traceback": [
      "\u001b[1;31m---------------------------------------------------------------------------\u001b[0m",
      "\u001b[1;31mAssertionError\u001b[0m                            Traceback (most recent call last)",
      "\u001b[1;32mc:\\Users\\tquackenbush\\Documents\\edge_detector\\train_detector.ipynb Cell 7\u001b[0m in \u001b[0;36m<cell line: 4>\u001b[1;34m()\u001b[0m\n\u001b[0;32m      <a href='vscode-notebook-cell:/c%3A/Users/tquackenbush/Documents/edge_detector/train_detector.ipynb#W6sZmlsZQ%3D%3D?line=0'>1</a>\u001b[0m generator \u001b[39m=\u001b[39m ImageGenerator((\u001b[39m200\u001b[39m, \u001b[39m100\u001b[39m), \u001b[39m1\u001b[39m)\n\u001b[0;32m      <a href='vscode-notebook-cell:/c%3A/Users/tquackenbush/Documents/edge_detector/train_detector.ipynb#W6sZmlsZQ%3D%3D?line=2'>3</a>\u001b[0m model \u001b[39m=\u001b[39m UNet()\n\u001b[1;32m----> <a href='vscode-notebook-cell:/c%3A/Users/tquackenbush/Documents/edge_detector/train_detector.ipynb#W6sZmlsZQ%3D%3D?line=3'>4</a>\u001b[0m model\u001b[39m.\u001b[39;49mcuda()\n\u001b[0;32m      <a href='vscode-notebook-cell:/c%3A/Users/tquackenbush/Documents/edge_detector/train_detector.ipynb#W6sZmlsZQ%3D%3D?line=4'>5</a>\u001b[0m objective \u001b[39m=\u001b[39m nn\u001b[39m.\u001b[39mCrossEntropyLoss()\n\u001b[0;32m      <a href='vscode-notebook-cell:/c%3A/Users/tquackenbush/Documents/edge_detector/train_detector.ipynb#W6sZmlsZQ%3D%3D?line=6'>7</a>\u001b[0m optimizer \u001b[39m=\u001b[39m optim\u001b[39m.\u001b[39mAdam(model\u001b[39m.\u001b[39mparameters(), lr\u001b[39m=\u001b[39m\u001b[39m1e-4\u001b[39m)\n",
      "File \u001b[1;32m~\\AppData\\Local\\Packages\\PythonSoftwareFoundation.Python.3.9_qbz5n2kfra8p0\\LocalCache\\local-packages\\Python39\\site-packages\\torch\\nn\\modules\\module.py:688\u001b[0m, in \u001b[0;36mModule.cuda\u001b[1;34m(self, device)\u001b[0m\n\u001b[0;32m    671\u001b[0m \u001b[39mdef\u001b[39;00m \u001b[39mcuda\u001b[39m(\u001b[39mself\u001b[39m: T, device: Optional[Union[\u001b[39mint\u001b[39m, device]] \u001b[39m=\u001b[39m \u001b[39mNone\u001b[39;00m) \u001b[39m-\u001b[39m\u001b[39m>\u001b[39m T:\n\u001b[0;32m    672\u001b[0m     \u001b[39mr\u001b[39m\u001b[39m\"\"\"Moves all model parameters and buffers to the GPU.\u001b[39;00m\n\u001b[0;32m    673\u001b[0m \n\u001b[0;32m    674\u001b[0m \u001b[39m    This also makes associated parameters and buffers different objects. So\u001b[39;00m\n\u001b[1;32m   (...)\u001b[0m\n\u001b[0;32m    686\u001b[0m \u001b[39m        Module: self\u001b[39;00m\n\u001b[0;32m    687\u001b[0m \u001b[39m    \"\"\"\u001b[39;00m\n\u001b[1;32m--> 688\u001b[0m     \u001b[39mreturn\u001b[39;00m \u001b[39mself\u001b[39;49m\u001b[39m.\u001b[39;49m_apply(\u001b[39mlambda\u001b[39;49;00m t: t\u001b[39m.\u001b[39;49mcuda(device))\n",
      "File \u001b[1;32m~\\AppData\\Local\\Packages\\PythonSoftwareFoundation.Python.3.9_qbz5n2kfra8p0\\LocalCache\\local-packages\\Python39\\site-packages\\torch\\nn\\modules\\module.py:578\u001b[0m, in \u001b[0;36mModule._apply\u001b[1;34m(self, fn)\u001b[0m\n\u001b[0;32m    576\u001b[0m \u001b[39mdef\u001b[39;00m \u001b[39m_apply\u001b[39m(\u001b[39mself\u001b[39m, fn):\n\u001b[0;32m    577\u001b[0m     \u001b[39mfor\u001b[39;00m module \u001b[39min\u001b[39;00m \u001b[39mself\u001b[39m\u001b[39m.\u001b[39mchildren():\n\u001b[1;32m--> 578\u001b[0m         module\u001b[39m.\u001b[39;49m_apply(fn)\n\u001b[0;32m    580\u001b[0m     \u001b[39mdef\u001b[39;00m \u001b[39mcompute_should_use_set_data\u001b[39m(tensor, tensor_applied):\n\u001b[0;32m    581\u001b[0m         \u001b[39mif\u001b[39;00m torch\u001b[39m.\u001b[39m_has_compatible_shallow_copy_type(tensor, tensor_applied):\n\u001b[0;32m    582\u001b[0m             \u001b[39m# If the new tensor has compatible tensor type as the existing tensor,\u001b[39;00m\n\u001b[0;32m    583\u001b[0m             \u001b[39m# the current behavior is to change the tensor in-place using `.data =`,\u001b[39;00m\n\u001b[1;32m   (...)\u001b[0m\n\u001b[0;32m    588\u001b[0m             \u001b[39m# global flag to let the user control whether they want the future\u001b[39;00m\n\u001b[0;32m    589\u001b[0m             \u001b[39m# behavior of overwriting the existing tensor or not.\u001b[39;00m\n",
      "File \u001b[1;32m~\\AppData\\Local\\Packages\\PythonSoftwareFoundation.Python.3.9_qbz5n2kfra8p0\\LocalCache\\local-packages\\Python39\\site-packages\\torch\\nn\\modules\\module.py:601\u001b[0m, in \u001b[0;36mModule._apply\u001b[1;34m(self, fn)\u001b[0m\n\u001b[0;32m    597\u001b[0m \u001b[39m# Tensors stored in modules are graph leaves, and we don't want to\u001b[39;00m\n\u001b[0;32m    598\u001b[0m \u001b[39m# track autograd history of `param_applied`, so we have to use\u001b[39;00m\n\u001b[0;32m    599\u001b[0m \u001b[39m# `with torch.no_grad():`\u001b[39;00m\n\u001b[0;32m    600\u001b[0m \u001b[39mwith\u001b[39;00m torch\u001b[39m.\u001b[39mno_grad():\n\u001b[1;32m--> 601\u001b[0m     param_applied \u001b[39m=\u001b[39m fn(param)\n\u001b[0;32m    602\u001b[0m should_use_set_data \u001b[39m=\u001b[39m compute_should_use_set_data(param, param_applied)\n\u001b[0;32m    603\u001b[0m \u001b[39mif\u001b[39;00m should_use_set_data:\n",
      "File \u001b[1;32m~\\AppData\\Local\\Packages\\PythonSoftwareFoundation.Python.3.9_qbz5n2kfra8p0\\LocalCache\\local-packages\\Python39\\site-packages\\torch\\nn\\modules\\module.py:688\u001b[0m, in \u001b[0;36mModule.cuda.<locals>.<lambda>\u001b[1;34m(t)\u001b[0m\n\u001b[0;32m    671\u001b[0m \u001b[39mdef\u001b[39;00m \u001b[39mcuda\u001b[39m(\u001b[39mself\u001b[39m: T, device: Optional[Union[\u001b[39mint\u001b[39m, device]] \u001b[39m=\u001b[39m \u001b[39mNone\u001b[39;00m) \u001b[39m-\u001b[39m\u001b[39m>\u001b[39m T:\n\u001b[0;32m    672\u001b[0m     \u001b[39mr\u001b[39m\u001b[39m\"\"\"Moves all model parameters and buffers to the GPU.\u001b[39;00m\n\u001b[0;32m    673\u001b[0m \n\u001b[0;32m    674\u001b[0m \u001b[39m    This also makes associated parameters and buffers different objects. So\u001b[39;00m\n\u001b[1;32m   (...)\u001b[0m\n\u001b[0;32m    686\u001b[0m \u001b[39m        Module: self\u001b[39;00m\n\u001b[0;32m    687\u001b[0m \u001b[39m    \"\"\"\u001b[39;00m\n\u001b[1;32m--> 688\u001b[0m     \u001b[39mreturn\u001b[39;00m \u001b[39mself\u001b[39m\u001b[39m.\u001b[39m_apply(\u001b[39mlambda\u001b[39;00m t: t\u001b[39m.\u001b[39;49mcuda(device))\n",
      "File \u001b[1;32m~\\AppData\\Local\\Packages\\PythonSoftwareFoundation.Python.3.9_qbz5n2kfra8p0\\LocalCache\\local-packages\\Python39\\site-packages\\torch\\cuda\\__init__.py:210\u001b[0m, in \u001b[0;36m_lazy_init\u001b[1;34m()\u001b[0m\n\u001b[0;32m    206\u001b[0m     \u001b[39mraise\u001b[39;00m \u001b[39mRuntimeError\u001b[39;00m(\n\u001b[0;32m    207\u001b[0m         \u001b[39m\"\u001b[39m\u001b[39mCannot re-initialize CUDA in forked subprocess. To use CUDA with \u001b[39m\u001b[39m\"\u001b[39m\n\u001b[0;32m    208\u001b[0m         \u001b[39m\"\u001b[39m\u001b[39mmultiprocessing, you must use the \u001b[39m\u001b[39m'\u001b[39m\u001b[39mspawn\u001b[39m\u001b[39m'\u001b[39m\u001b[39m start method\u001b[39m\u001b[39m\"\u001b[39m)\n\u001b[0;32m    209\u001b[0m \u001b[39mif\u001b[39;00m \u001b[39mnot\u001b[39;00m \u001b[39mhasattr\u001b[39m(torch\u001b[39m.\u001b[39m_C, \u001b[39m'\u001b[39m\u001b[39m_cuda_getDeviceCount\u001b[39m\u001b[39m'\u001b[39m):\n\u001b[1;32m--> 210\u001b[0m     \u001b[39mraise\u001b[39;00m \u001b[39mAssertionError\u001b[39;00m(\u001b[39m\"\u001b[39m\u001b[39mTorch not compiled with CUDA enabled\u001b[39m\u001b[39m\"\u001b[39m)\n\u001b[0;32m    211\u001b[0m \u001b[39mif\u001b[39;00m _cudart \u001b[39mis\u001b[39;00m \u001b[39mNone\u001b[39;00m:\n\u001b[0;32m    212\u001b[0m     \u001b[39mraise\u001b[39;00m \u001b[39mAssertionError\u001b[39;00m(\n\u001b[0;32m    213\u001b[0m         \u001b[39m\"\u001b[39m\u001b[39mlibcudart functions unavailable. It looks like you have a broken build?\u001b[39m\u001b[39m\"\u001b[39m)\n",
      "\u001b[1;31mAssertionError\u001b[0m: Torch not compiled with CUDA enabled"
     ]
    }
   ],
   "source": [
    "generator = ImageGenerator((200, 100), 1)\n",
    "\n",
    "model = UNet()\n",
    "model.cuda()\n",
    "objective = nn.CrossEntropyLoss()\n",
    "\n",
    "optimizer = optim.Adam(model.parameters(), lr=1e-4)\n",
    "\n",
    "epochs = 20000\n",
    "\n",
    "for epoch in tqdm(range(epochs)):\n",
    "    # Get a batch of data\n",
    "    y_truth = 0\n",
    "    x = 0\n",
    "\n",
    "    optimizer.zero_grad()\n",
    "    y_hat = model(x)\n",
    "\n",
    "    loss = objective(y_hat, y_truth)\n",
    "\n",
    "    loss.backward()\n",
    "\n",
    "    optimizer.step()\n",
    "    "
   ]
  }
 ],
 "metadata": {
  "kernelspec": {
   "display_name": "Python 3.9.13 64-bit (windows store)",
   "language": "python",
   "name": "python3"
  },
  "language_info": {
   "codemirror_mode": {
    "name": "ipython",
    "version": 3
   },
   "file_extension": ".py",
   "mimetype": "text/x-python",
   "name": "python",
   "nbconvert_exporter": "python",
   "pygments_lexer": "ipython3",
   "version": "3.9.13"
  },
  "orig_nbformat": 4,
  "vscode": {
   "interpreter": {
    "hash": "5b452d74d2ddd9804bfa2c483bf059b7143f479673615fbf445e0b11b5ae6252"
   }
  }
 },
 "nbformat": 4,
 "nbformat_minor": 2
}
