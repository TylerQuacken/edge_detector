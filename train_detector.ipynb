{
 "cells": [
  {
   "cell_type": "markdown",
   "metadata": {},
   "source": [
    "This IPython Notebook handles the training and evaluation of a neural net that produces a heatmap of edge likelihood from an unsaturated image"
   ]
  },
  {
   "cell_type": "code",
   "execution_count": 1,
   "metadata": {},
   "outputs": [],
   "source": [
    "# Handle imports\n",
    "import cv2\n",
    "import numpy as np\n",
    "import matplotlib.pyplot as plt\n"
   ]
  },
  {
   "cell_type": "code",
   "execution_count": 45,
   "metadata": {},
   "outputs": [],
   "source": [
    "class ImageGenerator():\n",
    "    def __init__(self, shape: tuple, batchSize: int):\n",
    "        self.shape = shape\n",
    "\n",
    "    def generate_image(self) -> np.ndarray:\n",
    "        shapeBGR = (self.shape[0], self.shape[1], 3)\n",
    "        imageBGR = np.zeros(shapeBGR, 'uint8')\n",
    "        # pick two sides\n",
    "        flips = np.random.randint()\n",
    "        # pick random points on lines\n",
    "\n",
    "        # Set up polygon, draw\n",
    "\n",
    "        # flip with P = 0.5\n",
    "\n",
    "        pts = np.array([[0,0], [99,99], [0,99]], np.int32)\n",
    "        pts = np.expand_dims(pts, 1)\n",
    "        cv2.fillPoly(imageBGR, [pts], (255,255,255))\n",
    "\n",
    "        image = cv2.cvtColor(imageBGR, cv2.COLOR_BGR2GRAY)\n",
    "\n",
    "        return image\n",
    "\n"
   ]
  },
  {
   "cell_type": "code",
   "execution_count": 46,
   "metadata": {},
   "outputs": [
    {
     "data": {
      "image/png": "[encoded data removed]",
      "text/plain": [
       "<Figure size 432x288 with 1 Axes>"
      ]
     },
     "metadata": {
      "needs_background": "light"
     },
     "output_type": "display_data"
    }
   ],
   "source": [
    "generator = ImageGenerator((100, 100), 1)\n",
    "img = generator.generate_image()\n",
    "\n",
    "def imshow(image: np.ndarray):\n",
    "    if image.ndim == 2:\n",
    "        plt.imshow(image, cmap='gray', vmin=0, vmax=255)\n",
    "    elif image.ndim == 3:\n",
    "        plt.imshow(image[:,:,::-1])\n",
    "    else:\n",
    "        raise(ValueError)\n",
    "    plt.show()\n",
    "\n",
    "imshow(img)"
   ]
  },
  {
   "cell_type": "code",
   "execution_count": 173,
   "metadata": {},
   "outputs": [
    {
     "name": "stdout",
     "output_type": "stream",
     "text": [
      "1 4\n"
     ]
    },
    {
     "data": {
      "text/plain": [
       "array([[0, 2],\n",
       "       [1, 2],\n",
       "       [1, 0]])"
      ]
     },
     "execution_count": 173,
     "metadata": {},
     "output_type": "execute_result"
    }
   ],
   "source": [
    "a = np.array([[0,0],[0,2],[1,2],[1,0],[0,0],[0,2],[1,2],[1,0]])\n",
    "b = np.random.randint(0,4)\n",
    "c = np.random.randint(1,4)\n",
    "print(b, b+c)\n",
    "a[b:b+c]\n",
    "\n",
    "# interpolate between b and b+1, c and c+1"
   ]
  }
 ],
 "metadata": {
  "interpreter": {
   "hash": "13eb0af71620a846e484681143862ad0a4deab6cadfc353264e5c14897c11035"
  },
  "kernelspec": {
   "display_name": "Python 3.9.9 64-bit",
   "language": "python",
   "name": "python3"
  },
  "language_info": {
   "codemirror_mode": {
    "name": "ipython",
    "version": 3
   },
   "file_extension": ".py",
   "mimetype": "text/x-python",
   "name": "python",
   "nbconvert_exporter": "python",
   "pygments_lexer": "ipython3",
   "version": "3.9.9"
  },
  "orig_nbformat": 4
 },
 "nbformat": 4,
 "nbformat_minor": 2
}
